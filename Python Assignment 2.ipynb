{
 "cells": [
  {
   "cell_type": "markdown",
   "metadata": {},
   "source": [
    "## Task 1:"
   ]
  },
  {
   "cell_type": "code",
   "execution_count": 1,
   "metadata": {},
   "outputs": [
    {
     "name": "stdout",
     "output_type": "stream",
     "text": [
      "Results obtained using inbuilt function = 36 \n",
      "Results obtained using manual function = 36 \n",
      "Results obtained using inbuilt function = -34 \n",
      "Results obtained using manual function = -34 \n",
      "Results obtained using inbuilt function = 40320 \n",
      "Results obtained using manual function = 40320 \n",
      "Results obtained using inbuilt function = 2.48015873015873e-05 \n",
      "Results obtained using manual function = 2.48015873015873e-05 \n"
     ]
    }
   ],
   "source": [
    "# 1.1 Write a Python Program to implement your own myreduce() function which works exactly\n",
    "# like Python's built-in function reduce()\n",
    "\n",
    "from functools import reduce\n",
    "\n",
    "def myreduce(func, L):\n",
    "    \n",
    "    \n",
    "    result = L[0]\n",
    "    for i in range(1, len(L)):\n",
    "        \n",
    "        result = func(result, L[i])\n",
    "    \n",
    "    return result\n",
    "    \n",
    "L= [1,2,3,4,5,6,7,8]\n",
    "func = lambda x,y :x+y\n",
    "\n",
    "print(\"Results obtained using inbuilt function = {} \".format(reduce(func, L)))\n",
    "print(\"Results obtained using manual function = {} \".format(myreduce(func, L)))\n",
    "\n",
    "L= [1,2,3,4,5,6,7,8]\n",
    "func = lambda x,y :x-y\n",
    "\n",
    "print(\"Results obtained using inbuilt function = {} \".format(reduce(func, L)))\n",
    "print(\"Results obtained using manual function = {} \".format(myreduce(func, L)))\n",
    "\n",
    "L= [1,2,3,4,5,6,7,8]\n",
    "func = lambda x,y :x*y\n",
    "\n",
    "print(\"Results obtained using inbuilt function = {} \".format(reduce(func, L)))\n",
    "print(\"Results obtained using manual function = {} \".format(myreduce(func, L)))\n",
    "\n",
    "L= [1,2,3,4,5,6,7,8]\n",
    "func = lambda x,y :x/y\n",
    "\n",
    "print(\"Results obtained using inbuilt function = {} \".format(reduce(func, L)))\n",
    "print(\"Results obtained using manual function = {} \".format(myreduce(func, L)))\n"
   ]
  },
  {
   "cell_type": "code",
   "execution_count": 2,
   "metadata": {},
   "outputs": [
    {
     "name": "stdout",
     "output_type": "stream",
     "text": [
      "Results obtained using inbuilt function = [2, 4, 6, 8, 10] \n",
      "Results obtained using manual function = [2, 4, 6, 8, 10] \n",
      "Results obtained using inbuilt function = [] \n",
      "Results obtained using manual function = [] \n"
     ]
    }
   ],
   "source": [
    "# 1.2 Write a Python program to implement your own myfilter() function which works exactly\n",
    "# like Python's built-in function filter()\n",
    "\n",
    "\n",
    "def myfilter(func, L):\n",
    "    \n",
    "    if len(L):\n",
    "        return [L[i] for i in range(len(L)) if func(L[i])]\n",
    "    return []\n",
    "\n",
    "L =[1,2,3,4,5,6,7,8,9,10]\n",
    "func  = lambda x:x%2==0\n",
    "\n",
    "print(\"Results obtained using inbuilt function = {} \".format(list(filter(func, L))))\n",
    "print(\"Results obtained using manual function = {} \".format(myfilter(func, L)))\n",
    "\n",
    "print(\"Results obtained using inbuilt function = {} \".format(list(filter(func, []))))\n",
    "print(\"Results obtained using manual function = {} \".format(myfilter(func, [])))"
   ]
  },
  {
   "cell_type": "code",
   "execution_count": 3,
   "metadata": {},
   "outputs": [
    {
     "name": "stdout",
     "output_type": "stream",
     "text": [
      "['A', 'C', 'A', 'D', 'G', 'I', 'L', 'D']\n",
      "['x', 'xx', 'xxx', 'xxxx', 'y', 'yy', 'yyy', 'yyyy', 'z', 'zz', 'zzz', 'zzzz']\n",
      "['x', 'y', 'z', 'xx', 'yy', 'zz', 'xxx', 'yyy', 'zzz', 'xxxx', 'yyyy', 'zzzz']\n",
      "[[2], [3], [4], [3], [4], [5], [4], [5], [6]]\n",
      "[[2, 3, 4, 5], [3, 4, 5, 6], [4, 5, 6, 7], [5, 6, 7, 8]]\n",
      "[(1, 1), (2, 1), (3, 1), (1, 2), (2, 2), (3, 2), (1, 3), (2, 3), (3, 3)]\n"
     ]
    }
   ],
   "source": [
    "# 2    Write List comprehensions to produce the following Lists\n",
    "\n",
    "# 0.   ['A', 'C', 'A', 'D', 'G', 'I', ’L’, ‘ D’]\n",
    "# 1.   ['x', 'xx', 'xxx', 'xxxx', 'y', 'yy', 'yyy', 'yyyy', 'z', 'zz', 'zzz', 'zzzz']\n",
    "# 2.   ['x', 'y', 'z', 'xx', 'yy', 'zz', 'xxx', 'yyy', 'zzz', 'xxxx', 'yyyy', 'zzzz']\n",
    "# 3.   [[2], [3], [4], [3], [4], [5], [4], [5], [6]] \n",
    "# 4.   [[2, 3, 4, 5], [3, 4, 5, 6], [4, 5, 6, 7], [5, 6, 7, 8]]      \n",
    "# 5.   [(1, 1), (2, 1), (3, 1), (1, 2), (2, 2), (3, 2), (1, 3), (2, 3), (3, 3)]\n",
    "\n",
    "# 0.   ['A', 'C', 'A', 'D', 'G', 'I', ’L’, ‘ D’]\n",
    "print([i for i in 'ACADGILD'])\n",
    "\n",
    "# 1.   ['x', 'xx', 'xxx', 'xxxx', 'y', 'yy', 'yyy', 'yyyy', 'z', 'zz', 'zzz', 'zzzz']\n",
    "\n",
    "print([ (i)*j for i in ['x','y','z'] for j in range(1,5) ])\n",
    "    \n",
    "# 2.   ['x', 'y', 'z', 'xx', 'yy', 'zz', 'xxx', 'yyy', 'zzz', 'xxxx', 'yyyy', 'zzzz']\n",
    "\n",
    "print([ (i)*j for i in range(1,5) for j in ['x','y','z'] ])\n",
    "    \n",
    "# 3.   [[2], [3], [4], [3], [4], [5], [4], [5], [6]] \n",
    "\n",
    "print([[i+j] for i in range(3) for j in [2,3,4]])\n",
    "\n",
    "# 4.  [[2, 3, 4, 5], [3, 4, 5, 6],  [4, 5, 6, 7], [5, 6, 7, 8]]      \n",
    "\n",
    "print([[j+i for j in [2, 3, 4, 5]] for i in range(0,4)])\n",
    "    \n",
    "# 5.  [(1, 1), (2, 1), (3, 1), (1, 2), (2, 2), (3, 2), (1, 3), (2, 3), (3, 3)]\n",
    "print([(j, i) for i in range(1,4) for j in range(1,4)])"
   ]
  },
  {
   "cell_type": "code",
   "execution_count": 4,
   "metadata": {},
   "outputs": [
    {
     "data": {
      "text/plain": [
       "'Captain Marvel'"
      ]
     },
     "execution_count": 4,
     "metadata": {},
     "output_type": "execute_result"
    }
   ],
   "source": [
    "# 3 Implement a function longestWord() that takes a list of words and returns the longest one.\n",
    "\n",
    "def longestWord(words):\n",
    "    word_2_len = [len(word) for word in words]\n",
    "    \n",
    "    return words[word_2_len.index(max(word_2_len))]\n",
    "\n",
    "words = ['Captain Marvel', 'Thor', 'TableTennis', 'Showcase', 'Spiderman', 'Iron Man']\n",
    "longestWord(words)"
   ]
  },
  {
   "cell_type": "markdown",
   "metadata": {},
   "source": [
    "## Task 2 :"
   ]
  },
  {
   "cell_type": "code",
   "execution_count": 5,
   "metadata": {},
   "outputs": [
    {
     "name": "stdout",
     "output_type": "stream",
     "text": [
      "Please enter the sides of triangle\n",
      "Enter the first side 3\n",
      "Enter the second side 4\n",
      "Enter the third side 5\n",
      "The area of triangle is 6.000000\n"
     ]
    }
   ],
   "source": [
    "# 1.1 Write a Python Program(with class concepts) to find the area of the triangle using the below\n",
    "# formula.\n",
    "# area = (s*(s-a)*(s-b)*(s-c)) ** 0.5\n",
    "# Function to take the length of the sides of triangle from user should be defined in the parent\n",
    "# class and function to calculate the area should be defined in subclass\n",
    "\n",
    "class area_triangle:\n",
    "    def __init__(self):\n",
    "        print('Please enter the sides of triangle')\n",
    "        self.a = int(input(\"Enter the first side \"))\n",
    "        self.b = int(input(\"Enter the second side \"))\n",
    "        self.c = int(input(\"Enter the third side \"))\n",
    "    \n",
    "    def get_area(self):\n",
    "        s = float((self.a+self.b+self.c)/2)\n",
    "        return float((s*(s-self.a)*(s-self.b)*(s-self.c))**0.5)\n",
    "\n",
    "S = area_triangle()\n",
    "print(\"The area of triangle is %f\" %(S.get_area()))"
   ]
  },
  {
   "cell_type": "code",
   "execution_count": 6,
   "metadata": {},
   "outputs": [
    {
     "data": {
      "text/plain": [
       "['Table', 'Showcase', 'Room']"
      ]
     },
     "execution_count": 6,
     "metadata": {},
     "output_type": "execute_result"
    }
   ],
   "source": [
    "# 1.2 Write a function filter_long_words() that takes a list of words and an integer n and returns\n",
    "# the list of words that are longer than n.\n",
    "\n",
    "def filter_long_words(words, n):\n",
    "    return [ word for word in words if len(word) >n ]\n",
    "\n",
    "words = ['Cat', 'Bat', 'Table', 'Showcase', 'Room', 'Toy']\n",
    "n = 3\n",
    "filter_long_words(words, n)"
   ]
  },
  {
   "cell_type": "code",
   "execution_count": 7,
   "metadata": {},
   "outputs": [
    {
     "name": "stdout",
     "output_type": "stream",
     "text": [
      "Initial list of words ['Cat', 'Bat', 'Table', 'Showcase', 'Room', 'Toy']\n",
      "Mapped list of words [3, 3, 5, 8, 4, 3]\n",
      "\n",
      "\n",
      "Initial list of words ['ab', 'cde', 'erty']\n",
      "Mapped list of words [2, 3, 4]\n"
     ]
    }
   ],
   "source": [
    "# 2.1 Write a Python program using function concept that maps list of words into a list of integers\n",
    "# representing the lengths of the corresponding words.\n",
    "# Hint: If a list [ ab,cde,erty] is passed on to the python function output should come as [2,3,4]\n",
    "# Here 2,3 and 4 are the lengths of the words in the list.\n",
    "\n",
    "def word2len(words):\n",
    "    return [len(word) for word in words]\n",
    "\n",
    "words = ['Cat', 'Bat', 'Table', 'Showcase', 'Room', 'Toy']\n",
    "print(\"Initial list of words \" + str(words))\n",
    "\n",
    "print(\"Mapped list of words \" +str(word2len(words)))\n",
    "\n",
    "print('\\n')\n",
    "\n",
    "words = [ 'ab','cde','erty']\n",
    "print(\"Initial list of words \" + str(words))\n",
    "\n",
    "print(\"Mapped list of words \" +str(word2len(words)))"
   ]
  },
  {
   "cell_type": "code",
   "execution_count": 8,
   "metadata": {},
   "outputs": [
    {
     "name": "stdout",
     "output_type": "stream",
     "text": [
      "The character a vowel = True\n",
      "The character b vowel = False\n"
     ]
    }
   ],
   "source": [
    "# 2.2 Write a Python function which takes a character (i.e. a string of length 1) and returns True if\n",
    "# it is a vowel, False otherwise.\n",
    "\n",
    "def check_vowel(a):\n",
    "    return  True if a in ['a','e','i','o','u'] else False\n",
    "\n",
    "print(\"The character {} vowel = {}\".format('a',check_vowel('a')))\n",
    "\n",
    "print(\"The character {} vowel = {}\".format('b',check_vowel('b')))"
   ]
  },
  {
   "cell_type": "code",
   "execution_count": null,
   "metadata": {},
   "outputs": [],
   "source": []
  }
 ],
 "metadata": {
  "kernelspec": {
   "display_name": "Python 3",
   "language": "python",
   "name": "python3"
  },
  "language_info": {
   "codemirror_mode": {
    "name": "ipython",
    "version": 3
   },
   "file_extension": ".py",
   "mimetype": "text/x-python",
   "name": "python",
   "nbconvert_exporter": "python",
   "pygments_lexer": "ipython3",
   "version": "3.7.4"
  }
 },
 "nbformat": 4,
 "nbformat_minor": 2
}
