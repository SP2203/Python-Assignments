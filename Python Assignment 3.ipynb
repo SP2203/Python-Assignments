{
 "cells": [
  {
   "cell_type": "markdown",
   "metadata": {},
   "source": [
    "## Task 1"
   ]
  },
  {
   "cell_type": "code",
   "execution_count": 1,
   "metadata": {},
   "outputs": [
    {
     "name": "stdout",
     "output_type": "stream",
     "text": [
      "Enter the value of a = 10\n",
      "Enter the value of b = 0\n",
      "division by zero  exception occured\n",
      "Please enter non-zero value of b\n",
      "\n",
      "\n",
      "Enter the value of a = 10\n",
      "Enter the value of b = 5\n",
      "The division of 10 and 5 is 2.0 \n"
     ]
    }
   ],
   "source": [
    "# 1. Write a function to compute 5/0 and use try/except to catch the exceptions.\n",
    "\n",
    "def compute_division():\n",
    "    try:\n",
    "        a = int(input('Enter the value of a = '))\n",
    "        b = int(input('Enter the value of b = '))\n",
    "        compute = a/b\n",
    "        print(\"The division of {} and {} is {} \".format(a,b,compute))\n",
    "    except Exception as e:\n",
    "        print(\"{}  exception occured\".format(e))\n",
    "        print(\"Please enter non-zero value of b\")\n",
    "        print('\\n')\n",
    "        compute_division()\n",
    "\n",
    "compute_division()"
   ]
  },
  {
   "cell_type": "code",
   "execution_count": 2,
   "metadata": {},
   "outputs": [
    {
     "name": "stdout",
     "output_type": "stream",
     "text": [
      "Americans  play Baseball\n",
      "Americans  play Cricket\n",
      "Americans  watch Baseball\n",
      "Americans  watch Cricket\n",
      "Indians play Baseball\n",
      "Indians play Cricket\n",
      "Indians watch Baseball\n",
      "Indians watch Cricket\n"
     ]
    }
   ],
   "source": [
    "# 2. Implement a Python program to generate all sentences where subject is in\n",
    "# [\"Americans\", \"Indians\"] and verb is in [\"Play\", \"watch\"] and the object is in\n",
    "# [\"Baseball\",\"cricket\"].\n",
    "# Hint: Subject,Verb and Object should be declared in the program as shown below.\n",
    "# subjects=[\"Americans \",\"Indians\"]\n",
    "# verbs=[\"play\",\"watch\"]\n",
    "# objects=[\"Baseball\",\"Cricket\"]\n",
    "# Output should come as below:\n",
    "# Americans play Baseball.\n",
    "# Americans play Cricket.\n",
    "# Americans watch Baseball.\n",
    "# Americans watch Cricket.\n",
    "# Indians play Baseball.\n",
    "# Indians play Cricket.\n",
    "# Indians watch Baseball.\n",
    "# Indians watch Cricket.\n",
    "\n",
    "\n",
    "\n",
    "subjects=[\"Americans \",\"Indians\"]\n",
    "verbs=[\"play\",\"watch\"]\n",
    "objects=[\"Baseball\",\"Cricket\"]\n",
    "\n",
    "for s in subjects:\n",
    "    for v in verbs:\n",
    "        for o in objects:\n",
    "            print(s+' '+ v +' '+ o)"
   ]
  },
  {
   "cell_type": "markdown",
   "metadata": {},
   "source": [
    "## Task 2"
   ]
  },
  {
   "cell_type": "code",
   "execution_count": 3,
   "metadata": {},
   "outputs": [
    {
     "name": "stdout",
     "output_type": "stream",
     "text": [
      "Using Built in Function Increasing True \n",
      "\n",
      "[[  1   1   1   1]\n",
      " [  1   2   4   8]\n",
      " [  1   3   9  27]\n",
      " [  1   4  16  64]\n",
      " [  1   5  25 125]]\n",
      "\n",
      "Using Manual Function Increasing True \n",
      "\n",
      "[1, 1, 1, 1]\n",
      "[1, 2, 4, 8]\n",
      "[1, 3, 9, 27]\n",
      "[1, 4, 16, 64]\n",
      "[1, 5, 25, 125]\n",
      "****************************************************************************************************\n",
      "\n",
      "Using Built in Function Increasing False \n",
      "\n",
      "[[  1   1   1   1]\n",
      " [  8   4   2   1]\n",
      " [ 27   9   3   1]\n",
      " [ 64  16   4   1]\n",
      " [125  25   5   1]]\n",
      "\n",
      "Using Manual Function Increasing False \n",
      "\n",
      "[1, 1, 1, 1]\n",
      "[8, 4, 2, 1]\n",
      "[27, 9, 3, 1]\n",
      "[64, 16, 4, 1]\n",
      "[125, 25, 5, 1]\n"
     ]
    }
   ],
   "source": [
    "# Write a function so that the columns of the output matrix are powers of the input vector.\n",
    "# The order of the powers is determined by the increasing boolean argument. Specifically, when\n",
    "# increasing is False, the i-th output column is the input vector raised element-wise to the power\n",
    "# of N - i - 1.\n",
    "# HINT: Such a matrix with a geometric progression in each row is named for AlexandreTheophile Vandermonde.\n",
    "\n",
    "import numpy as np\n",
    "\n",
    "\n",
    "def myVander(input_vector, n, increasing=False):\n",
    "    \n",
    "    if increasing:\n",
    "        return [[i**(j) for j in range(n)] for i in input_vector]\n",
    "    return [[i**(n-j-1) for j in range(n)] for i in input_vector]\n",
    "\n",
    "def display_vander(m):\n",
    "    for i in m:\n",
    "        print(i)\n",
    "    \n",
    "input_vector = [1,2,3,4,5]\n",
    "n=4\n",
    "\n",
    "print(\"Using Built in Function Increasing True \\n\")\n",
    "print(np.vander(input_vector, N=n, increasing=True))\n",
    "\n",
    "print(\"\\nUsing Manual Function Increasing True \\n\")\n",
    "m = myVander(input_vector, n, True)\n",
    "display_vander(m)\n",
    "\n",
    "print('*'*100)\n",
    "print(\"\\nUsing Built in Function Increasing False \\n\")\n",
    "print(np.vander(input_vector, N=n, increasing=False))\n",
    "\n",
    "print(\"\\nUsing Manual Function Increasing False \\n\")\n",
    "m = myVander(input_vector, n, False)\n",
    "display_vander(m)"
   ]
  },
  {
   "cell_type": "code",
   "execution_count": null,
   "metadata": {},
   "outputs": [],
   "source": []
  }
 ],
 "metadata": {
  "kernelspec": {
   "display_name": "Python 3",
   "language": "python",
   "name": "python3"
  },
  "language_info": {
   "codemirror_mode": {
    "name": "ipython",
    "version": 3
   },
   "file_extension": ".py",
   "mimetype": "text/x-python",
   "name": "python",
   "nbconvert_exporter": "python",
   "pygments_lexer": "ipython3",
   "version": "3.7.4"
  }
 },
 "nbformat": 4,
 "nbformat_minor": 2
}
